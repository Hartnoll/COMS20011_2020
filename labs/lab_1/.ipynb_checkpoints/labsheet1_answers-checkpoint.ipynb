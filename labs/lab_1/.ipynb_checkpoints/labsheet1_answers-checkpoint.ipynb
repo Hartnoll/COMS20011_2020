{
 "cells": [
  {
   "cell_type": "markdown",
   "metadata": {},
   "source": [
    "# Lab 1: Introduction to Python and Jupyter Notebooks with Python Kernel\n",
    "\n",
    "Python is an incredibly flexible programming language. It is an interpreted language, and is easy to write and debug. Moreover, hundreds of libraries are available to suit all your needs.\n",
    "\n",
    "In this lab we will introduce the Python programming language, as well as two important libraries we will use throughout the unit:\n",
    "- [NumPy](http://docs.scipy.org/doc/numpy/index.html), for scientific computation\n",
    "- [Matplotlib](http://matplotlib.org/contents.html), to plot any kind of data\n",
    "\n",
    "\n",
    "Both of the above libraries have a complete and very good documentation which can be used to learn other features of the libraries or for questions and examples. The documentation is available either online (links above) or via Python itself, e.g. `help(numpy.array)` in the Python interpreter.\n",
    "\n",
    "\n",
    "### The Python programming language\n",
    "\n",
    "The basics of Python are available [here](https://learnxinyminutes.com/docs/python/).\n",
    "\n",
    "The three key concepts worth mentioning here are:\n",
    "- loose syntax: no need of semicolon to end a line (e.g. `;` in C)\n",
    "- importance of code **indentation**: `if`, `for`, and most statement blocks are identified by indentation (this replaces the curly braces `{` in other languages)\n",
    "- comments are introduced with `#`\n",
    "\n",
    "The classic way to launch Python programs is from the command line. Suppose we have the following `hello_world.py` file:\n",
    "\n",
    "``` Python\n",
    "a = 2\n",
    "b = 2\n",
    "c = a + b\n",
    "\n",
    "message = 'Hello World! Did you know that {} + {} equals {}?'.format(a, b, c)\n",
    "\n",
    "print(message)\n",
    "```\n",
    "\n",
    "`format` is a function of the `string` class. It works by substituting the placeholders `{}` contained in the string with the provided parameters, returning a new string. Notice how we do not have to specify the type of the variables we want to print, unlike the classic C-style `sprintf` methods available in many languages. The `format` function is very powerful and flexible, allowing complex output prints. You can find a nice  tutorial [here](https://www.digitalocean.com/community/tutorials/how-to-use-string-formatters-in-python-3).\n",
    "\n",
    "Now, if we type `python hello_world.py` in a shell (provided it is already installed, which is the case of most if not all Linux distributions), we should see the expected greeting message:\n",
    "\n",
    "``` Bash\n",
    "$ python hello_world.py \n",
    "Hello World! Did you know that 2 + 2 equals 4?\n",
    "$\n",
    "```\n",
    "\n",
    "Python can also run interactively (somewhat like MATLAB). Simply type `python` in a shell and try it out! Alternatively, a better interactive Python shell (with tab completion, plus other features) is provided by [IPython](http://ipython.org/). To use IPython, simply type `ipython` in your shell to launch an interactive python session.\n",
    "\n",
    "\n",
    "#### Python 3\n",
    "\n",
    "We strongly encourage you to use Python 3 as opposed to Python 2, which will reach its end of life by the end of 2019.\n",
    "\n",
    "\n",
    "### Jupyter Notebook\n",
    "\n",
    "Python can be run on [Jupyter Notebook](http://jupyter.org/) too.\n",
    "\n",
    "Jupyter Notebook is a computing environment supporting various programing languages (Python, R, Lua, etc.) through the concept of kernels.  \n",
    "It allows you to enrich your code with complex comments formatted in Markdown and $\\LaTeX$, as well as to place the results of your computation right below your code. Beside, it has all the features provided by the ipython interpreter, like tab auto-completion. \n",
    "\n",
    "Jupyter Notebook runs as a web server. To run this lab sheet navigate to the folder containing the file `labsheet1.ipynb` and run Jupyter:\n",
    "\n",
    "``` Bash\n",
    "cd Downloads\n",
    "/opt/anaconda3-4.4.0/bin/jupyter notebook\n",
    "```\n",
    "now open your favourite web browser and go to: [localhost:8888/notebooks](http://localhost:8888/notebooks). Select `labsheet1.ipynb` from the file tree by clicking it. To shut down the notebook simply close your browser window and in the terminal window running the backend press `<Ctrl-C>`, type `y`, and press `Return` key.\n",
    "\n",
    "Notebooks are organised in **cells**. A cell may contain either code (in our case, this will be Python code) or text, which can be easily and nicely formatted using the Markdown notation. \n",
    "\n",
    "To edit an already existing cell simply double-click on it. You can use the toolbar to insert new cells, edit and delete them. \n",
    "\n",
    "Cells can be run, by hitting `ctrl+enter` when editing a cell or by clicking on the `Run` button at the top. Running a Markdown cell will simply display the formatted text, while running a code cell will execute the commands executed in it. \n",
    "\n",
    "**Note**: when you run a code cell, all the created variables, implemented functions and imported libraries will be then available to every other code cell. However, it is commonly assumed that cells will be run sequentially in terms of prerequisites.\n",
    "\n",
    "\n",
    "#### Markdown language (and a bit of $\\LaTeX$ and HTML)\n",
    "Markdown cells allow you to write fancy and simple comments: all of this is written in Markdown - double click on this cell to see the source. Introduction to Markdown syntax can be found [here](https://daringfireball.net/projects/markdown/syntax).\n",
    "\n",
    "As Markdown is translated to HTML upon displaying it also allows you to use pure HTML: more details are available [here](https://daringfireball.net/projects/markdown/syntax#html).\n",
    "\n",
    "Finally, you can also display simple $\\LaTeX$ equations in Markdown thanks to `MathJax` support.  \n",
    "For inline equations wrap your equation between `$` symbols; for display mode equations use `$$`.\n",
    "\n"
   ]
  },
  {
   "cell_type": "markdown",
   "metadata": {},
   "source": [
    "## Importing the libraries\n",
    "\n",
    "Before we start this lab we need to import the aforementioned NumPy and Matplotlib libraries, which we can do with the following code:\n",
    "\n",
    "``` Python\n",
    "import numpy as np\n",
    "import matplotlib.pyplot as plt\n",
    "from mpl_toolkits.mplot3d import Axes3D\n",
    "```\n",
    "we use the `import` keyword and bind the libraries to the `np`, `plt` and `Axes3D` namespaces with the `as` keyword.\n",
    "\n",
    "Now instead of typing long commands like:\n",
    "\n",
    "``` Python\n",
    "a = numpy.array([[1,2], [3,4]])\n",
    "```\n",
    "\n",
    "we can do:\n",
    "\n",
    "``` Python\n",
    "a = np.array([[1,2], [3,4]])\n",
    "```\n",
    "\n",
    "The cell below also instructs the Python kernel to put all the plots below your code (`%matplotlib inline`) and sets some default parameters for the plots (`pylab`) to ensure better readability when using a jupyter notebook. This line isn't used for python scripts.  \n",
    "\n",
    "**Note** that up until now all the cells encountered in this notebook are *markdown* cells. The cell below is the first *code* cell in our notebook.\n",
    "\n",
    "To import these packages into your workspace and set the plotting environment simply navigate to the cell bellow and **evaluate it** (see above for details).\n",
    "\n",
    "**Note** The number will increase and denotes the order of execution of each cell."
   ]
  },
  {
   "cell_type": "code",
   "execution_count": 5,
   "metadata": {
    "collapsed": true,
    "scrolled": true
   },
   "outputs": [],
   "source": [
    "import numpy as np\n",
    "from scipy import stats\n",
    "from pprint import pprint\n",
    "import matplotlib.pyplot as plt\n",
    "from mpl_toolkits.mplot3d import Axes3D\n",
    "\n",
    "%matplotlib inline\n",
    "# notebook\n",
    "import matplotlib.pylab as pylab\n",
    "pylab.rcParams['figure.figsize'] = (32.0, 24.0)\n",
    "pylab.rcParams['font.size'] = 24"
   ]
  },
  {
   "cell_type": "markdown",
   "metadata": {},
   "source": [
    "#### Pretty printing \n",
    "\n",
    "If you find yourself in a situation where printing some variables gives you barely readable output, e.g.:\n",
    "``` Python\n",
    "print([list(range(30)), [4,5,6], list(range(17))])\n",
    "[[0, 1, 2, 3, 4, 5, 6, 7, 8, 9, 10, 11, 12, 13, 14, 15, 16, 17, 18, 19, 20, 21, 22, 23, 24, 25, 26, 27, 28, 29], [4, 5, 6], [0, 1, 2, 3, 4, 5, 6, 7, 8, 9, 10, 11, 12, 13, 14, 15, 16]]\n",
    "```\n",
    "you can import the `pprint` - *Pretty Printing* function:\n",
    "\n",
    "``` Python\n",
    "from pprint import pprint\n",
    "pprint([list(range(30)), [4,5,6], list(range(17))])\n",
    "[[0,\n",
    "  1,\n",
    "  2,\n",
    "  3,\n",
    "  4,\n",
    "  5,\n",
    "  6,\n",
    "  7,\n",
    "  8,\n",
    "  9,\n",
    "  10,\n",
    "  11,\n",
    "  12,\n",
    "  13,\n",
    "  14,\n",
    "  15,\n",
    "  16,\n",
    "  17,\n",
    "  18,\n",
    "  19,\n",
    "  20,\n",
    "  21,\n",
    "  22,\n",
    "  23,\n",
    "  24,\n",
    "  25,\n",
    "  26,\n",
    "  27,\n",
    "  28,\n",
    "  29],\n",
    " [4, 5, 6],\n",
    " [0, 1, 2, 3, 4, 5, 6, 7, 8, 9, 10, 11, 12, 13, 14, 15, 16]]\n",
    "```\n",
    "which can give you a better insight into your data.\n",
    "\n",
    "### Python as simple calculator \n",
    "\n",
    "Let's do some programming now: open the Python (or IPython) interpreter by typing `python` (or `ipython`) in the command line and perform some simple calculations, e.g.:\n",
    "\n",
    "- `2 + 2`\n",
    "- `7 * 7`\n",
    "- `2 ** 10` (exponentiation)\n",
    "- `10 / 3`\n",
    "- `10 / 3.0`\n",
    "\n",
    "please consider the difference between the output of the last two commands. Are you running python 2 or 3?\n",
    "\n",
    "\n",
    "## NumPy \n",
    "\n",
    "NumPy is designed for scientific computing. The similarities to MATLAB are described [here](https://docs.scipy.org/doc/numpy/user/numpy-for-matlab-users.html).\n",
    "\n",
    "NumPy defines its own multidimensional array which can be created with:\n",
    "\n",
    "``` Python\n",
    "np.array([[1, 2], [3, 4], [5, 6]])\n",
    "```\n",
    "\n",
    "- There is an alternative method that uses a MATLAB style syntax, `np.matrix`, __DO NOT USE THIS__. Use `np.array` instead.\n",
    "- For more details, type `help(np.array)` in your Python console or visit online help [here](http://docs.scipy.org/doc/numpy/reference/generated/numpy.matrix.html). \n",
    "\n",
    "As Python is an object oriented language, the difference between *function* and *object property* should be understood.  \n",
    "An object instance, e.g. NumPy array `A = np.array([[1, 2], [3, 4], [5, 6]])` inherits all the functions from the class `numpy.array`. Therefore, to sum all elements of array `A` we can choose two approaches:\n",
    "\n",
    "- `A.sum()`, or\n",
    "- `np.sum(A)`.\n",
    "\n",
    "the first one is advisable.\n",
    "\n",
    "Moreover, some objects have *properties* (e.g. size or shape of an array). Instead of calling the size *function*, an array object has the size *property*, i.e.:\n",
    "\n",
    "- `A.shape`\n",
    "- `np.shape(A)`\n",
    "\n",
    "the first one is advisable.\n",
    "\n",
    "**Note: MATLAB and NumPy indices**  \n",
    "\n",
    "Be careful with your indices!\n",
    "- in Python, indices start from `0`, like in any proper programming language\n",
    "- in MATLAB, they start from `1` (and rest assured, you'll hate this)\n",
    "\n",
    "\n",
    "\n",
    "## Matplotlib \n",
    "\n",
    "Once your results are ready, a good way to interpret them is via *visualisation*: Matplotlib (in particular its `pyplot` module) is your friend here.  \n",
    "For an overview of the kind of plots you can produce with it, have a look at [this](http://matplotlib.org/users/pyplot_tutorial.html) web page.\n",
    "\n",
    "**Note: there are two plotting approaches**:\n",
    "\n",
    "- via `plt` call  \n",
    "\n",
    "``` Python\n",
    "plt.scatter(x, y)\n",
    "plt.show()\n",
    "```\n",
    "- via object creation\n",
    "\n",
    "``` Python\n",
    "fig, ax = plt.subplots() # when called with no arguments will create only one plot\n",
    "ax.scatter(x, y)\n",
    "plt.show()\n",
    "```\n",
    "\n",
    "both are equivalent, the second one is advisable when a finer control over the Matplolib's [axes class](https://matplotlib.org/api/axes_api.html) is needed."
   ]
  },
  {
   "cell_type": "markdown",
   "metadata": {},
   "source": [
    "## Let's start\n",
    "\n",
    "Let's play a little bit with NumPy and Matplotlib now.\n",
    "\n",
    "### 1. Create a array\n",
    "\n",
    "Let's create two matrices, `A` and `B`:\n",
    "\n",
    "``` Python\n",
    "A = np.array([[2, 3], [4, -1], [5, 6]])\n",
    "B = np.array([[5, 2], [8, 9], [2, 1]])\n",
    "```\n",
    "\n",
    "\n",
    "Try now to do it yourself in the *code* cell below. Print the content and the shape of the two matrices after you've created them.\n",
    "\n",
    "**Note**: remember to __run__ the cell, as you'll need the variables `A` and `B` later!"
   ]
  },
  {
   "cell_type": "code",
   "execution_count": 2,
   "metadata": {},
   "outputs": [
    {
     "name": "stdout",
     "output_type": "stream",
     "text": [
      "Array A with shape (3, 2):\n",
      "[[ 2  3]\n",
      " [ 4 -1]\n",
      " [ 5  6]]\n",
      "Array B with shape (3, 2):\n",
      "[[5 2]\n",
      " [8 9]\n",
      " [2 1]]\n"
     ]
    }
   ],
   "source": [
    "# write here your code\n",
    "\n",
    "\n",
    "##CORRECT ANSWER##\n",
    "\n",
    "import numpy as np\n",
    "A = np.array([[2,3], [4,-1], [5,6]])\n",
    "B = np.array([[5, 2], [8, 9], [2, 1]])\n",
    "print('Array A with shape {}:'.format(A.shape))\n",
    "print(A)\n",
    "\n",
    "print('Array B with shape {}:'.format(B.shape))\n",
    "print(B)\n",
    "\n",
    "##CORRECT ANSWER##"
   ]
  },
  {
   "cell_type": "markdown",
   "metadata": {},
   "source": [
    "### 2. Array operations \n",
    "\n",
    "Once you've run the cell above, you should have matrices `A` and `B` loaded in memory.\n",
    "\n",
    "Perform now the following operations on these matrices:\n",
    "\n",
    "- $C = 3A$\n",
    "- $C = A + B$\n",
    "- $C = AB^T$\n",
    "\n",
    "For more details type `help(np.transpose)` in your Python console or visit online help [here](https://docs.scipy.org/doc/numpy/reference/generated/numpy.transpose.html)."
   ]
  },
  {
   "cell_type": "code",
   "execution_count": 4,
   "metadata": {},
   "outputs": [
    {
     "name": "stdout",
     "output_type": "stream",
     "text": [
      "C1:\n",
      "[[ 6  9]\n",
      " [12 -3]\n",
      " [15 18]]\n",
      "C2:\n",
      "[[ 7  5]\n",
      " [12  8]\n",
      " [ 7  7]]\n",
      "C3:\n",
      "[[16 43  7]\n",
      " [18 23  7]\n",
      " [37 94 16]]\n"
     ]
    }
   ],
   "source": [
    "# write here the code to perform the above operations, and print your results\n",
    "\n",
    "\n",
    "##CORRECT ANSWER##\n",
    "\n",
    "C = 3 * A\n",
    "print('C1:')\n",
    "print(C)\n",
    "\n",
    "C = A + B\n",
    "print('C2:')\n",
    "print(C)\n",
    "\n",
    "C = np.matmul(A, B.T)\n",
    "print('C3:')\n",
    "print(C)\n",
    "\n",
    "##CORRECT ANSWER##"
   ]
  },
  {
   "cell_type": "markdown",
   "metadata": {},
   "source": [
    "### 3. More array operations\n",
    "\n",
    "Calculate now the *mean*, *sum*, and *variance* of your matrices `A` and `B`, using `NumPy` functions/array properties `mean`, `sum`, `var`.\n",
    "\n",
    "Hint: `help(np.sum)` or look [here](http://docs.scipy.org/doc/numpy/reference/generated/numpy.sum.html).  \n",
    "Hint: `help(np.mean)` or look [here](http://docs.scipy.org/doc/numpy/reference/generated/numpy.mean.html).  \n",
    "Hint: `help(np.var)` or look [here](http://docs.scipy.org/doc/numpy/reference/generated/numpy.var.html#numpy.var)."
   ]
  },
  {
   "cell_type": "code",
   "execution_count": 5,
   "metadata": {},
   "outputs": [
    {
     "name": "stdout",
     "output_type": "stream",
     "text": [
      "A sum 19\n",
      "A mean 3.1666666666666665\n",
      "A var:  5.138888888888888\n",
      "B sum:  27\n",
      "B mean:  4.5\n",
      "B var:  9.583333333333334\n"
     ]
    }
   ],
   "source": [
    "# write your code here\n",
    "\n",
    "\n",
    "##CORRECT ANSWER##\n",
    "\n",
    "Asum = A.sum()\n",
    "print('A sum', Asum)\n",
    "\n",
    "Amean = A.mean()\n",
    "print('A mean', Amean)\n",
    "\n",
    "Avar = A.var()\n",
    "print('A var: ', Avar)\n",
    "\n",
    "Bsum = np.sum(B)\n",
    "print('B sum: ', Bsum)\n",
    "\n",
    "Bmean = np.mean(B)\n",
    "print('B mean: ', Bmean)\n",
    "\n",
    "Bvar = np.var(B)\n",
    "print('B var: ', Bvar)\n",
    "      \n",
    "##CORRECT ANSWER##"
   ]
  },
  {
   "cell_type": "markdown",
   "metadata": {},
   "source": [
    "### 4. Loading data\n",
    "\n",
    "Load the file `data.dat` available on the lab's webpage into a array `D`.\n",
    "Check the dimensions of the loaded data.\n",
    "\n",
    "Tip: to load MATLAB files with NumPy pass the `delimiter=','` parameter to the appropriate `NumPy` method.\n",
    "\n",
    "Hint: `help(np.loadtxt)` or look [here](http://docs.scipy.org/doc/numpy/reference/generated/numpy.loadtxt.html).  \n",
    "Hint: `help(np.ndarray.shape)` or look [here](http://docs.scipy.org/doc/numpy/reference/generated/numpy.ndarray.shape.html)."
   ]
  },
  {
   "cell_type": "code",
   "execution_count": 7,
   "metadata": {},
   "outputs": [
    {
     "name": "stdout",
     "output_type": "stream",
     "text": [
      "D size:  (1000, 4)\n",
      "D size:  (1000, 4)\n"
     ]
    }
   ],
   "source": [
    "# write your code here\n",
    "\n",
    "##CORRECT ANSWER##\n",
    "\n",
    "# `delimiter=','` is necessary for loading MATLAB files\n",
    "D = np.loadtxt('data.dat', delimiter=',')\n",
    "\n",
    "Dsize_prop = D.shape # via property of element\n",
    "Dsize_func = np.shape(D) # via NumPy function\n",
    "\n",
    "print('D size: ', Dsize_prop)\n",
    "print('D size: ', Dsize_func)\n",
    "\n",
    "##CORRECT ANSWER##"
   ]
  },
  {
   "cell_type": "markdown",
   "metadata": {},
   "source": [
    "### 5. Scatter plot\n",
    "\n",
    "Plot the first two columns of the array `D` as *2D* scatter plot, then plot the last three columns as a *3D* scatter plot. \n",
    "\n",
    "Study the axis properties of the figure, and learn how to:\n",
    "\n",
    "- label the axes\n",
    "- change the axes limits\n",
    "- add a grid to the plot\n",
    "- change the markers’ shape, size and colour\n",
    "\n",
    "Tip: For 3D plots use *3D projection*: `fig, ax = plt.subplots(subplot_kw={'projection' : '3d'})\n",
    "`.  \n",
    "Tip: Marker style object documentation is available [here](http://matplotlib.org/1.4.0/api/markers_api.html).\n",
    "\n",
    "Hint: `help(plt.scatter)` or look [here](http://matplotlib.org/api/pyplot_api.html?highlight=scatter#matplotlib.pyplot.scatter).  \n",
    "Hint: `help(plt.show)` or look [here](http://matplotlib.org/api/pyplot_api.html?highlight=show#matplotlib.pyplot.show).  \n",
    "Hint: `help(plt.figure)` or look [here](http://matplotlib.org/api/pyplot_api.html?highlight=figure#matplotlib.pyplot.figure).  \n",
    "Hint: `help(plt.subplots)` or look [here](https://matplotlib.org/api/_as_gen/matplotlib.pyplot.subplots.html).  \n",
    "Hint: `help(plt.Axes.set_xlabel)` or look [here](http://matplotlib.org/api/axes_api.html?highlight=set_xlabel#matplotlib.axes.Axes.set_xlabel).  \n",
    "etc."
   ]
  },
  {
   "cell_type": "code",
   "execution_count": 9,
   "metadata": {},
   "outputs": [
    {
     "data": {
      "image/png": "[encoded data removed]",
      "text/plain": [
       "<matplotlib.figure.Figure at 0x7fde2c1e49b0>"
      ]
     },
     "metadata": {},
     "output_type": "display_data"
    },
    {
     "ename": "AttributeError",
     "evalue": "'tuple' object has no attribute 'scatter'",
     "output_type": "error",
     "traceback": [
      "\u001b[0;31m---------------------------------------------------------------------------\u001b[0m",
      "\u001b[0;31mAttributeError\u001b[0m                            Traceback (most recent call last)",
      "\u001b[0;32m<ipython-input-9-7b98a9e027e0>\u001b[0m in \u001b[0;36m<module>\u001b[0;34m()\u001b[0m\n\u001b[1;32m      9\u001b[0m \u001b[0;31m# with defining custom figure\u001b[0m\u001b[0;34m\u001b[0m\u001b[0;34m\u001b[0m\u001b[0m\n\u001b[1;32m     10\u001b[0m \u001b[0max0\u001b[0m \u001b[0;34m=\u001b[0m \u001b[0mplt\u001b[0m\u001b[0;34m.\u001b[0m\u001b[0msubplots\u001b[0m\u001b[0;34m(\u001b[0m\u001b[0;34m)\u001b[0m\u001b[0;34m\u001b[0m\u001b[0m\n\u001b[0;32m---> 11\u001b[0;31m \u001b[0max0\u001b[0m\u001b[0;34m.\u001b[0m\u001b[0mscatter\u001b[0m\u001b[0;34m(\u001b[0m\u001b[0mD\u001b[0m\u001b[0;34m[\u001b[0m\u001b[0;34m:\u001b[0m\u001b[0;34m,\u001b[0m\u001b[0;36m1\u001b[0m\u001b[0;34m]\u001b[0m\u001b[0;34m,\u001b[0m \u001b[0mD\u001b[0m\u001b[0;34m[\u001b[0m\u001b[0;34m:\u001b[0m\u001b[0;34m,\u001b[0m\u001b[0;36m0\u001b[0m\u001b[0;34m]\u001b[0m\u001b[0;34m)\u001b[0m\u001b[0;34m\u001b[0m\u001b[0m\n\u001b[0m\u001b[1;32m     12\u001b[0m \u001b[0mplt\u001b[0m\u001b[0;34m.\u001b[0m\u001b[0mshow\u001b[0m\u001b[0;34m(\u001b[0m\u001b[0;34m)\u001b[0m\u001b[0;34m\u001b[0m\u001b[0m\n\u001b[1;32m     13\u001b[0m \u001b[0;34m\u001b[0m\u001b[0m\n",
      "\u001b[0;31mAttributeError\u001b[0m: 'tuple' object has no attribute 'scatter'"
     ]
    },
    {
     "data": {
      "image/png": "[encoded data removed]",
      "text/plain": [
       "<matplotlib.figure.Figure at 0x7fde265f8cc0>"
      ]
     },
     "metadata": {},
     "output_type": "display_data"
    }
   ],
   "source": [
    "# write your code here\n",
    "\n",
    "##CORRECT ANSWER##\n",
    "\n",
    "#without defining custom figure\n",
    "plt.scatter( D[:,0], D[:,1] )\n",
    "plt.show()\n",
    "\n",
    "# with defining custom figure\n",
    "wwwww, ax0 = plt.subplots() \n",
    "ax0.scatter(D[:,1], D[:,0])\n",
    "plt.show()\n",
    "\n",
    "# with defining custom figure\n",
    "fig, ax = plt.subplots(subplot_kw={'projection' : '3d'})\n",
    "ax.scatter(D[:,-3], D[:,-2], D[:,-1], marker='v', color='r', s=30 )\n",
    "\n",
    "ax.set_xlabel('X Label')\n",
    "ax.set_ylabel('Y Label')\n",
    "ax.set_zlabel('Z Label')\n",
    "\n",
    "ax.set_xlim([-40, +40])\n",
    "ax.set_ylim([-6, +6])\n",
    "ax.set_zlim([-15, +15])\n",
    "\n",
    "ax.grid(True) # False\n",
    "\n",
    "plt.show()\n",
    "\n",
    "##CORRECT ANSWER##"
   ]
  },
  {
   "cell_type": "markdown",
   "metadata": {},
   "source": [
    "### 6. Histogram\n",
    "\n",
    "Compute and display the histogram of the values in the first column of your array.\n",
    "\n",
    "Tip: the histogram method returns some useful statistics.\n",
    "\n",
    "Hint: `help(plt.hist)` or look [here](http://matplotlib.org/api/pyplot_api.html?highlight=hist#matplotlib.pyplot.hist)."
   ]
  },
  {
   "cell_type": "code",
   "execution_count": 8,
   "metadata": {},
   "outputs": [
    {
     "data": {
      "image/png": "[encoded data removed]",
      "text/plain": [
       "<Figure size 432x288 with 1 Axes>"
      ]
     },
     "metadata": {
      "needs_background": "light"
     },
     "output_type": "display_data"
    },
    {
     "name": "stdout",
     "output_type": "stream",
     "text": [
      "[  4.  27.  88. 190. 270. 243. 123.  38.  13.   4.]\n",
      "[-0.71946   1.539286  3.798032  6.056778  8.315524 10.57427  12.833016\n",
      " 15.091762 17.350508 19.609254 21.868   ]\n",
      "<a list of 10 Patch objects>\n"
     ]
    }
   ],
   "source": [
    "# write your code here\n",
    "\n",
    "##CORRECT ANSWER##\n",
    "\n",
    "n, bins, patches = plt.hist( D[:,0] )\n",
    "plt.show()\n",
    "\n",
    "print(n)\n",
    "print(bins)\n",
    "print(patches)\n",
    "\n",
    "##CORRECT ANSWER##"
   ]
  },
  {
   "cell_type": "markdown",
   "metadata": {},
   "source": [
    "### 7. Normal distribution\n",
    "\n",
    "Generate a random sequence of 1000 numbers from the normal distribution $\\mathcal{N}(0,1)$ using the NumPy command `np.random.randn`.  \n",
    "Compute then and display the histogram of the sequence based on 100 bins between -5 and 5 using the command `plt.hist`.\n",
    "\n",
    "Hint: `help(np.random.randn)` or look [here](http://docs.scipy.org/doc/numpy/reference/generated/numpy.random.randn.html).  \n",
    "Hint: `help(plt.hist)` or look [here](http://matplotlib.org/api/pyplot_api.html?highlight=hist#matplotlib.pyplot.hist)."
   ]
  },
  {
   "cell_type": "code",
   "execution_count": 9,
   "metadata": {},
   "outputs": [
    {
     "data": {
      "image/png": "[encoded data removed]",
      "text/plain": [
       "<Figure size 432x288 with 1 Axes>"
      ]
     },
     "metadata": {
      "needs_background": "light"
     },
     "output_type": "display_data"
    }
   ],
   "source": [
    "# write your code here\n",
    "\n",
    "##CORRECT ANSWER##\n",
    "\n",
    "s = 1 * np.random.randn(1000, 1) + 0\n",
    "\n",
    "plt.hist(s, bins=100, range=(-5, 5))\n",
    "plt.show()\n",
    "\n",
    "##CORRECT ANSWER##"
   ]
  },
  {
   "cell_type": "markdown",
   "metadata": {},
   "source": [
    "### 8. Saving your data to a file\n",
    "\n",
    "Save the generated sequence to a text file.\n",
    "\n",
    "Tip: to save your data in a format readable by both NumPy and MATLAB pass the `delimiter=','` parameter to the appropriate NumPy method.\n",
    "\n",
    "Hint: `help(np.savetxt)` or look [here](http://docs.scipy.org/doc/numpy/reference/generated/numpy.savetxt.html)."
   ]
  },
  {
   "cell_type": "code",
   "execution_count": 10,
   "metadata": {
    "collapsed": true
   },
   "outputs": [],
   "source": [
    "# write your code here\n",
    "\n",
    "##CORRECT ANSWER##\n",
    "\n",
    "# `delimiter=','` ensures that the data is readable by MATLAB\n",
    "np.savetxt('my_random_sequence.dat', s, delimiter=',')\n",
    "\n",
    "##CORRECT ANSWER##"
   ]
  },
  {
   "cell_type": "markdown",
   "metadata": {},
   "source": [
    "### 9. Generating random data\n",
    "\n",
    "Generate a random sequence of 100 numbers from a uniform distribution using the NumPy function `np.random.rand`.  \n",
    "Compute and display the histogram, and appreciate the difference between the two distributions.\n",
    "\n",
    "Hint: `help(np.random.rand)` or look [here](http://docs.scipy.org/doc/numpy/reference/generated/numpy.random.rand.html).  \n",
    "Hint: `help(plt.hist)` or look [here](http://matplotlib.org/api/pyplot_api.html?highlight=hist#matplotlib.pyplot.hist)."
   ]
  },
  {
   "cell_type": "code",
   "execution_count": 11,
   "metadata": {},
   "outputs": [
    {
     "data": {
      "image/png": "[encoded data removed]",
      "text/plain": [
       "<Figure size 432x288 with 1 Axes>"
      ]
     },
     "metadata": {
      "needs_background": "light"
     },
     "output_type": "display_data"
    }
   ],
   "source": [
    "# write your code here\n",
    "\n",
    "\n",
    "##CORRECT ANSWER##\n",
    "\n",
    "s = np.random.rand(100, 1)\n",
    "\n",
    "plt.hist(s)\n",
    "plt.show()\n",
    "\n",
    "##CORRECT ANSWER##"
   ]
  },
  {
   "cell_type": "markdown",
   "metadata": {
    "collapsed": true
   },
   "source": [
    "## The automarker\n",
    "\n",
    "Your coursework 1 will be marked partially with an automarker. The automarker works by running your Python program, passing in input the necessary arguments and retrieving the output, which must be printed to the standard output. The automarker will then compare the obtained result with the expected one, and will assign a mark to your program accordingly.\n",
    "\n",
    "Let's prepare now a very simple script to be submitted to BlackBoard in order to familiarise with the automarker submission. For this example, your code should simply take two numbers `a` and `b` and return their product. We have provided the following skeleton code:\n",
    "\n",
    "``` Python\n",
    "from __future__ import print_function\n",
    "\n",
    "import sys\n",
    "\n",
    "def product(numbers):\n",
    "    \"\"\"Function to return the product of two numbers\n",
    "    Params:\n",
    "        numbers: List of two numbers to be multiplied\n",
    "    Returns:\n",
    "        product of two numbers\n",
    "    \"\"\"\n",
    "    #Write your solution here\n",
    " \n",
    "    \n",
    "numbers = sys.argv[1:] # sys.argv contains the arguments passed to the program\n",
    "product(numbers) \n",
    "```\n",
    "\n",
    "Let's stop a couple of minutes to talk about the new things we see in the above code:\n",
    "\n",
    "\n",
    "##### `from __future__ import print_function`\n",
    "\n",
    "In Python 2 `print` can be either a *statement* or a *function*, whereas in Python 3 it is *only* a function. When used as a statement, the two syntaxes below are equivalent:\n",
    "\n",
    "``` Python\n",
    "print 'printed using the statement' # print statement - this works only in Python 2\n",
    "print('printed using the function') # print function - works both in Python 2 and 3\n",
    "```\n",
    "\n",
    "However, the `print` statement is available only in Python 2. To avoid potential syntax issues and ensure portability, we can force Python 2 to only use the `print` function like in Python 3. We do this with the line `from __future__ import print_function`. \n",
    "\n",
    "Notice that this kind of special import from the `future` must be put at the top of the script, before any other import. When we import the `print` function in Python 2 the `print` statement will no longer be usable. We highly recommend you to *never* use the `print` statement and *always* use its function counterpart!\n",
    "\n",
    "##### `def product(numbers):`\n",
    "\n",
    "This defines a function called `product`, which takes in input one parameter, which is called `numbers`. Such parameter is a list containing the two numbers to be multiplied.\n",
    "\n",
    "##### `sys.argv[1:]`\n",
    "\n",
    "`sys.argv` is a list containing the arguments passed to the program. Like in C++, Java and most languages, the first argument is the name of the file we are running. Our function `product` expects the input list to contain only two numbers. With the syntax `sys.argv[1:]` we are *slicing* the list `sys.argv`, i.e. we are getting only a portion of it. More precisely, we are getting all the elements starting from the second position (inclusive, remember Python is 0-indexed!) onwards, which amounts to simply removing the name of the script as needed. List slicing is a powerful feature in Python. You can read more about it [here](https://www.pythoncentral.io/how-to-slice-listsarrays-and-tuples-in-python/).\n",
    "\n",
    "\n",
    "**Notice: Always make sure there is a newline character at the end of your printed output!** This is for the automarker to correctly retrieve your output. As long as you use the `print()` function (i.e. without setting the optional parameter `end` to a character different from `\\n`) you'll be fine."
   ]
  }
 ],
 "metadata": {
  "kernelspec": {
   "display_name": "Python 3",
   "language": "python",
   "name": "python3"
  },
  "language_info": {
   "codemirror_mode": {
    "name": "ipython",
    "version": 3
   },
   "file_extension": ".py",
   "mimetype": "text/x-python",
   "name": "python",
   "nbconvert_exporter": "python",
   "pygments_lexer": "ipython3",
   "version": "3.6.1"
  }
 },
 "nbformat": 4,
 "nbformat_minor": 1
}
